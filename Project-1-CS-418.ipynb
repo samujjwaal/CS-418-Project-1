{
 "cells": [
  {
   "cell_type": "code",
   "execution_count": 77,
   "metadata": {},
   "outputs": [],
   "source": [
    "import pandas as pd\n",
    "import numpy as np\n",
    "import matplotlib.pyplot as plt\n",
    "import seaborn as sns"
   ]
  },
  {
   "cell_type": "code",
   "execution_count": 78,
   "metadata": {},
   "outputs": [
    {
     "data": {
      "text/plain": [
       "Year      2410\n",
       "State     2410\n",
       "County    2410\n",
       "Office    2410\n",
       "Party     2410\n",
       "Votes     2400\n",
       "dtype: int64"
      ]
     },
     "execution_count": 78,
     "metadata": {},
     "output_type": "execute_result"
    }
   ],
   "source": [
    "#import dataset\n",
    "original_election_data = pd.read_csv(\"election_train.csv\")\n",
    "demographic_data = pd.read_csv(\"demographics_train.csv\")\n",
    "original_election_data.count()\n",
    "#demographic_data"
   ]
  },
  {
   "cell_type": "code",
   "execution_count": 80,
   "metadata": {},
   "outputs": [
    {
     "data": {
      "text/plain": [
       "Year                1205\n",
       "State               1205\n",
       "County              1205\n",
       "Office              1205\n",
       "Democratic Votes    1200\n",
       "Republican Votes    1200\n",
       "dtype: int64"
      ]
     },
     "execution_count": 80,
     "metadata": {},
     "output_type": "execute_result"
    }
   ],
   "source": [
    "#Task 1 : Reshape from long format to wide format\n",
    "election_data = pd.pivot_table(original_election_data, index=['Year','State','County', 'Office'], columns=['Party'], values=['Votes']).reset_index()\n",
    "election_data.columns = election_data.columns.droplevel(1)\n",
    "election_data.columns = [\"Year\", \"State\", \"County\", \"Office\", \"Democratic Votes\", \"Republican Votes\"]\n",
    "election_data.count()\n",
    "#, aggfunc=np.sum"
   ]
  },
  {
   "cell_type": "code",
   "execution_count": 82,
   "metadata": {},
   "outputs": [
    {
     "data": {
      "text/plain": [
       "Year                1205\n",
       "State               1205\n",
       "County              1205\n",
       "Office              1205\n",
       "Democratic Votes    1200\n",
       "Republican Votes    1200\n",
       "dtype: int64"
      ]
     },
     "execution_count": 82,
     "metadata": {},
     "output_type": "execute_result"
    }
   ],
   "source": [
    "#election_data['County'].replace({'County', ''}, inplace=True, regex=False )\n",
    "election_data['County'] = election_data['County'].str.replace('County', '')\n",
    "election_data['County'] = election_data['County'].str.strip()\n",
    "election_data['State'] = election_data['State'].str.strip()\n",
    "#election_data\n",
    "states = {\n",
    "        'AK': 'Alaska',\n",
    "        'AL': 'Alabama',\n",
    "        'AR': 'Arkansas',\n",
    "        'AS': 'American Samoa',\n",
    "        'AZ': 'Arizona',\n",
    "        'CA': 'California',\n",
    "        'CO': 'Colorado',\n",
    "        'CT': 'Connecticut',\n",
    "        'DC': 'District of Columbia',\n",
    "        'DE': 'Delaware',\n",
    "        'FL': 'Florida',\n",
    "        'GA': 'Georgia',\n",
    "        'GU': 'Guam',\n",
    "        'HI': 'Hawaii',\n",
    "        'IA': 'Iowa',\n",
    "        'ID': 'Idaho',\n",
    "        'IL': 'Illinois',\n",
    "        'IN': 'Indiana',\n",
    "        'KS': 'Kansas',\n",
    "        'KY': 'Kentucky',\n",
    "        'LA': 'Louisiana',\n",
    "        'MA': 'Massachusetts',\n",
    "        'MD': 'Maryland',\n",
    "        'ME': 'Maine',\n",
    "        'MI': 'Michigan',\n",
    "        'MN': 'Minnesota',\n",
    "        'MO': 'Missouri',\n",
    "        'MP': 'Northern Mariana Islands',\n",
    "        'MS': 'Mississippi',\n",
    "        'MT': 'Montana',\n",
    "        'NA': 'National',\n",
    "        'NC': 'North Carolina',\n",
    "        'ND': 'North Dakota',\n",
    "        'NE': 'Nebraska',\n",
    "        'NH': 'New Hampshire',\n",
    "        'NJ': 'New Jersey',\n",
    "        'NM': 'New Mexico',\n",
    "        'NV': 'Nevada',\n",
    "        'NY': 'New York',\n",
    "        'OH': 'Ohio',\n",
    "        'OK': 'Oklahoma',\n",
    "        'OR': 'Oregon',\n",
    "        'PA': 'Pennsylvania',\n",
    "        'PR': 'Puerto Rico',\n",
    "        'RI': 'Rhode Island',\n",
    "        'SC': 'South Carolina',\n",
    "        'SD': 'South Dakota',\n",
    "        'TN': 'Tennessee',\n",
    "        'TX': 'Texas',\n",
    "        'UT': 'Utah',\n",
    "        'VA': 'Virginia',\n",
    "        'VI': 'Virgin Islands',\n",
    "        'VT': 'Vermont',\n",
    "        'WA': 'Washington',\n",
    "        'WI': 'Wisconsin',\n",
    "        'WV': 'West Virginia',\n",
    "        'WY': 'Wyoming'\n",
    "}\n",
    "election_data = election_data.replace({\"State\":states})\n",
    "demographic_data['State'] = demographic_data['State'].str.strip()\n",
    "demographic_data['County'] = demographic_data['County'].str.strip()\n",
    "\n",
    "demographic_data['State'] = demographic_data['State'].str.upper()\n",
    "election_data['State'] = election_data['State'].str.upper()\n",
    "election_data['County'] = election_data['County'].str.upper()\n",
    "demographic_data['County'] = demographic_data['County'].str.upper()\n",
    "election_data\n",
    "#demographic_data\n",
    "election_data.count()"
   ]
  },
  {
   "cell_type": "code",
   "execution_count": 83,
   "metadata": {},
   "outputs": [
    {
     "data": {
      "text/plain": [
       "Year                                     1200\n",
       "State                                    1200\n",
       "County                                   1200\n",
       "Office                                   1200\n",
       "Democratic Votes                         1195\n",
       "Republican Votes                         1195\n",
       "FIPS                                     1200\n",
       "Total Population                         1200\n",
       "Citizen Voting-Age Population            1200\n",
       "Percent White, not Hispanic or Latino    1200\n",
       "Percent Black, not Hispanic or Latino    1200\n",
       "Percent Hispanic or Latino               1200\n",
       "Percent Foreign Born                     1200\n",
       "Percent Female                           1200\n",
       "Percent Age 29 and Under                 1200\n",
       "Percent Age 65 and Older                 1200\n",
       "Median Household Income                  1200\n",
       "Percent Unemployed                       1200\n",
       "Percent Less than High School Degree     1200\n",
       "Percent Less than Bachelor's Degree      1200\n",
       "Percent Rural                            1200\n",
       "dtype: int64"
      ]
     },
     "execution_count": 83,
     "metadata": {},
     "output_type": "execute_result"
    }
   ],
   "source": [
    "#Task 2\n",
    "merged_data = pd.merge(election_data, demographic_data, how='inner', on=['State','County'])\n",
    "#merged_data[merged_data['County']==\"\"]\n",
    "#merged_data.dtypes\n",
    "#merged_data.isnull().sum()\n",
    "merged_data.count()"
   ]
  },
  {
   "cell_type": "code",
   "execution_count": 84,
   "metadata": {},
   "outputs": [
    {
     "data": {
      "text/html": [
       "<div>\n",
       "<style scoped>\n",
       "    .dataframe tbody tr th:only-of-type {\n",
       "        vertical-align: middle;\n",
       "    }\n",
       "\n",
       "    .dataframe tbody tr th {\n",
       "        vertical-align: top;\n",
       "    }\n",
       "\n",
       "    .dataframe thead th {\n",
       "        text-align: right;\n",
       "    }\n",
       "</style>\n",
       "<table border=\"1\" class=\"dataframe\">\n",
       "  <thead>\n",
       "    <tr style=\"text-align: right;\">\n",
       "      <th></th>\n",
       "      <th>Year</th>\n",
       "      <th>State</th>\n",
       "      <th>County</th>\n",
       "      <th>Office</th>\n",
       "      <th>Democratic Votes</th>\n",
       "      <th>Republican Votes</th>\n",
       "      <th>FIPS</th>\n",
       "      <th>Total Population</th>\n",
       "      <th>Citizen Voting-Age Population</th>\n",
       "      <th>Percent White, not Hispanic or Latino</th>\n",
       "      <th>...</th>\n",
       "      <th>Percent Foreign Born</th>\n",
       "      <th>Percent Female</th>\n",
       "      <th>Percent Age 29 and Under</th>\n",
       "      <th>Percent Age 65 and Older</th>\n",
       "      <th>Median Household Income</th>\n",
       "      <th>Percent Unemployed</th>\n",
       "      <th>Percent Less than High School Degree</th>\n",
       "      <th>Percent Less than Bachelor's Degree</th>\n",
       "      <th>Percent Rural</th>\n",
       "      <th>Party</th>\n",
       "    </tr>\n",
       "  </thead>\n",
       "  <tbody>\n",
       "    <tr>\n",
       "      <th>0</th>\n",
       "      <td>2018</td>\n",
       "      <td>ARIZONA</td>\n",
       "      <td>APACHE</td>\n",
       "      <td>US Senator</td>\n",
       "      <td>16298.0</td>\n",
       "      <td>7810.0</td>\n",
       "      <td>4001</td>\n",
       "      <td>72346</td>\n",
       "      <td>0</td>\n",
       "      <td>18.571863</td>\n",
       "      <td>...</td>\n",
       "      <td>1.719515</td>\n",
       "      <td>50.598513</td>\n",
       "      <td>45.854643</td>\n",
       "      <td>13.322091</td>\n",
       "      <td>32460</td>\n",
       "      <td>15.807433</td>\n",
       "      <td>21.758252</td>\n",
       "      <td>88.941063</td>\n",
       "      <td>74.061076</td>\n",
       "      <td>1</td>\n",
       "    </tr>\n",
       "    <tr>\n",
       "      <th>1</th>\n",
       "      <td>2018</td>\n",
       "      <td>ARIZONA</td>\n",
       "      <td>COCHISE</td>\n",
       "      <td>US Senator</td>\n",
       "      <td>17383.0</td>\n",
       "      <td>26929.0</td>\n",
       "      <td>4003</td>\n",
       "      <td>128177</td>\n",
       "      <td>92915</td>\n",
       "      <td>56.299492</td>\n",
       "      <td>...</td>\n",
       "      <td>11.458374</td>\n",
       "      <td>49.069646</td>\n",
       "      <td>37.902276</td>\n",
       "      <td>19.756275</td>\n",
       "      <td>45383</td>\n",
       "      <td>8.567108</td>\n",
       "      <td>13.409171</td>\n",
       "      <td>76.837055</td>\n",
       "      <td>36.301067</td>\n",
       "      <td>0</td>\n",
       "    </tr>\n",
       "    <tr>\n",
       "      <th>2</th>\n",
       "      <td>2018</td>\n",
       "      <td>ARIZONA</td>\n",
       "      <td>COCONINO</td>\n",
       "      <td>US Senator</td>\n",
       "      <td>34240.0</td>\n",
       "      <td>19249.0</td>\n",
       "      <td>4005</td>\n",
       "      <td>138064</td>\n",
       "      <td>104265</td>\n",
       "      <td>54.619597</td>\n",
       "      <td>...</td>\n",
       "      <td>4.825298</td>\n",
       "      <td>50.581614</td>\n",
       "      <td>48.946141</td>\n",
       "      <td>10.873943</td>\n",
       "      <td>51106</td>\n",
       "      <td>8.238305</td>\n",
       "      <td>11.085381</td>\n",
       "      <td>65.791439</td>\n",
       "      <td>31.466066</td>\n",
       "      <td>1</td>\n",
       "    </tr>\n",
       "    <tr>\n",
       "      <th>3</th>\n",
       "      <td>2018</td>\n",
       "      <td>ARIZONA</td>\n",
       "      <td>GILA</td>\n",
       "      <td>US Senator</td>\n",
       "      <td>7643.0</td>\n",
       "      <td>12180.0</td>\n",
       "      <td>4007</td>\n",
       "      <td>53179</td>\n",
       "      <td>0</td>\n",
       "      <td>63.222325</td>\n",
       "      <td>...</td>\n",
       "      <td>4.249798</td>\n",
       "      <td>50.296170</td>\n",
       "      <td>32.238290</td>\n",
       "      <td>26.397638</td>\n",
       "      <td>40593</td>\n",
       "      <td>12.129932</td>\n",
       "      <td>15.729958</td>\n",
       "      <td>82.262624</td>\n",
       "      <td>41.062000</td>\n",
       "      <td>0</td>\n",
       "    </tr>\n",
       "    <tr>\n",
       "      <th>4</th>\n",
       "      <td>2018</td>\n",
       "      <td>ARIZONA</td>\n",
       "      <td>GRAHAM</td>\n",
       "      <td>US Senator</td>\n",
       "      <td>3368.0</td>\n",
       "      <td>6870.0</td>\n",
       "      <td>4009</td>\n",
       "      <td>37529</td>\n",
       "      <td>0</td>\n",
       "      <td>51.461536</td>\n",
       "      <td>...</td>\n",
       "      <td>4.385942</td>\n",
       "      <td>46.313518</td>\n",
       "      <td>46.393456</td>\n",
       "      <td>12.315809</td>\n",
       "      <td>47422</td>\n",
       "      <td>14.424104</td>\n",
       "      <td>14.580797</td>\n",
       "      <td>86.675944</td>\n",
       "      <td>46.437399</td>\n",
       "      <td>0</td>\n",
       "    </tr>\n",
       "  </tbody>\n",
       "</table>\n",
       "<p>5 rows × 22 columns</p>\n",
       "</div>"
      ],
      "text/plain": [
       "   Year    State    County      Office  Democratic Votes  Republican Votes  \\\n",
       "0  2018  ARIZONA    APACHE  US Senator           16298.0            7810.0   \n",
       "1  2018  ARIZONA   COCHISE  US Senator           17383.0           26929.0   \n",
       "2  2018  ARIZONA  COCONINO  US Senator           34240.0           19249.0   \n",
       "3  2018  ARIZONA      GILA  US Senator            7643.0           12180.0   \n",
       "4  2018  ARIZONA    GRAHAM  US Senator            3368.0            6870.0   \n",
       "\n",
       "   FIPS  Total Population  Citizen Voting-Age Population  \\\n",
       "0  4001             72346                              0   \n",
       "1  4003            128177                          92915   \n",
       "2  4005            138064                         104265   \n",
       "3  4007             53179                              0   \n",
       "4  4009             37529                              0   \n",
       "\n",
       "   Percent White, not Hispanic or Latino  ...    Percent Foreign Born  \\\n",
       "0                              18.571863  ...                1.719515   \n",
       "1                              56.299492  ...               11.458374   \n",
       "2                              54.619597  ...                4.825298   \n",
       "3                              63.222325  ...                4.249798   \n",
       "4                              51.461536  ...                4.385942   \n",
       "\n",
       "   Percent Female  Percent Age 29 and Under  Percent Age 65 and Older  \\\n",
       "0       50.598513                 45.854643                 13.322091   \n",
       "1       49.069646                 37.902276                 19.756275   \n",
       "2       50.581614                 48.946141                 10.873943   \n",
       "3       50.296170                 32.238290                 26.397638   \n",
       "4       46.313518                 46.393456                 12.315809   \n",
       "\n",
       "   Median Household Income  Percent Unemployed  \\\n",
       "0                    32460           15.807433   \n",
       "1                    45383            8.567108   \n",
       "2                    51106            8.238305   \n",
       "3                    40593           12.129932   \n",
       "4                    47422           14.424104   \n",
       "\n",
       "   Percent Less than High School Degree  Percent Less than Bachelor's Degree  \\\n",
       "0                             21.758252                            88.941063   \n",
       "1                             13.409171                            76.837055   \n",
       "2                             11.085381                            65.791439   \n",
       "3                             15.729958                            82.262624   \n",
       "4                             14.580797                            86.675944   \n",
       "\n",
       "   Percent Rural  Party  \n",
       "0      74.061076      1  \n",
       "1      36.301067      0  \n",
       "2      31.466066      1  \n",
       "3      41.062000      0  \n",
       "4      46.437399      0  \n",
       "\n",
       "[5 rows x 22 columns]"
      ]
     },
     "execution_count": 84,
     "metadata": {},
     "output_type": "execute_result"
    }
   ],
   "source": [
    "#Task 5\n",
    "merged_data['Party'] = np.where(merged_data['Democratic Votes'] > merged_data['Republican Votes'], 1, 0)\n",
    "#merged_data[['Democratic Votes', 'Republican Votes', 'Party']]\n",
    "merged_data.head()"
   ]
  },
  {
   "cell_type": "code",
   "execution_count": 85,
   "metadata": {},
   "outputs": [
    {
     "data": {
      "text/plain": [
       "True"
      ]
     },
     "execution_count": 85,
     "metadata": {},
     "output_type": "execute_result"
    }
   ],
   "source": [
    "#Task 6(TODO)\n",
    "demo_mean = merged_data.groupby(['Party']).get_group(1).mean()\n",
    "repub_mean = merged_data.groupby(['Party']).get_group(0).mean()\n",
    "demo_mean['Total Population'] > repub_mean['Total Population']"
   ]
  },
  {
   "cell_type": "code",
   "execution_count": 86,
   "metadata": {},
   "outputs": [
    {
     "data": {
      "text/plain": [
       "True"
      ]
     },
     "execution_count": 86,
     "metadata": {},
     "output_type": "execute_result"
    }
   ],
   "source": [
    "#Task 7(TODO)\n",
    "demo_mean = merged_data.groupby(['Party']).get_group(1).mean()\n",
    "repub_mean = merged_data.groupby(['Party']).get_group(0).mean()\n",
    "demo_mean['Median Household Income'] > repub_mean['Median Household Income']"
   ]
  },
  {
   "cell_type": "code",
   "execution_count": 87,
   "metadata": {},
   "outputs": [],
   "source": [
    "pd.options.mode.chained_assignment = None  # default='warn'\n",
    "age_data = merged_data[['Percent Age 29 and Under','Percent Age 65 and Older','Party']]\n",
    "age_data['Percent Age 29 to 65'] = 100 - age_data['Percent Age 29 and Under'] - age_data['Percent Age 65 and Older']\n",
    "#list(age_data.columns.values)\n",
    "age_data = age_data[['Percent Age 29 and Under','Percent Age 29 to 65','Percent Age 65 and Older','Party']]\n",
    "#age_data.groupby('Party').describe().transpose()"
   ]
  },
  {
   "cell_type": "code",
   "execution_count": 88,
   "metadata": {},
   "outputs": [
    {
     "data": {
      "image/png": "[encoded data removed]",
      "text/plain": [
       "<Figure size 720x360 with 3 Axes>"
      ]
     },
     "metadata": {
      "needs_background": "light"
     },
     "output_type": "display_data"
    }
   ],
   "source": [
    "num_columns = len(age_data.columns)\n",
    "fig, axes = plt.subplots(1, num_columns-1, figsize = (10, 5))\n",
    "for i in range(num_columns-1):\n",
    "    sns.boxplot(x = 'Party', y = age_data.columns[i], data = age_data, orient = 'v', ax = axes[i])\n",
    "plt.tight_layout()"
   ]
  },
  {
   "cell_type": "code",
   "execution_count": 89,
   "metadata": {},
   "outputs": [],
   "source": [
    "gender_data = merged_data[['Percent Female', 'Party']]\n",
    "gender_data['Percent Male'] = 100 - gender_data['Percent Female']\n",
    "gender_data = gender_data[['Percent Female','Percent Male','Party']]"
   ]
  },
  {
   "cell_type": "code",
   "execution_count": 90,
   "metadata": {},
   "outputs": [
    {
     "data": {
      "image/png": "[encoded data removed]",
      "text/plain": [
       "<Figure size 720x360 with 2 Axes>"
      ]
     },
     "metadata": {
      "needs_background": "light"
     },
     "output_type": "display_data"
    }
   ],
   "source": [
    "num_columns = len(gender_data.columns)\n",
    "fig, axes = plt.subplots(1, num_columns-1, figsize = (10, 5))\n",
    "for i in range(num_columns-1):\n",
    "    sns.boxplot(x = 'Party', y = gender_data.columns[i], data = gender_data, orient = 'v', ax = axes[i])\n",
    "plt.tight_layout()"
   ]
  },
  {
   "cell_type": "code",
   "execution_count": 91,
   "metadata": {},
   "outputs": [],
   "source": [
    "race_data = merged_data[['Percent White, not Hispanic or Latino','Percent Black, not Hispanic or Latino','Percent Hispanic or Latino','Party']]"
   ]
  },
  {
   "cell_type": "code",
   "execution_count": 92,
   "metadata": {},
   "outputs": [
    {
     "data": {
      "image/png": "[encoded data removed]",
      "text/plain": [
       "<Figure size 720x360 with 3 Axes>"
      ]
     },
     "metadata": {
      "needs_background": "light"
     },
     "output_type": "display_data"
    }
   ],
   "source": [
    "num_columns = len(race_data.columns)\n",
    "fig, axes = plt.subplots(1, num_columns-1, figsize = (10, 5))\n",
    "for i in range(num_columns-1):\n",
    "    sns.boxplot(x = 'Party', y = race_data.columns[i], data = race_data, orient = 'v', ax = axes[i])\n",
    "plt.tight_layout()"
   ]
  },
  {
   "cell_type": "code",
   "execution_count": 93,
   "metadata": {},
   "outputs": [],
   "source": [
    "ethnic_data = merged_data[['Percent Foreign Born','Party']]\n",
    "ethnic_data['Percent Not Foreign Born'] = 100 - ethnic_data['Percent Foreign Born']\n",
    "ethnic_data = ethnic_data[['Percent Foreign Born','Percent Not Foreign Born','Party']]"
   ]
  },
  {
   "cell_type": "code",
   "execution_count": 94,
   "metadata": {},
   "outputs": [
    {
     "data": {
      "image/png": "[encoded data removed]",
      "text/plain": [
       "<Figure size 720x360 with 2 Axes>"
      ]
     },
     "metadata": {
      "needs_background": "light"
     },
     "output_type": "display_data"
    }
   ],
   "source": [
    "num_columns = len(ethnic_data.columns)\n",
    "fig, axes = plt.subplots(1, num_columns-1, figsize = (10, 5))\n",
    "for i in range(num_columns-1):\n",
    "    sns.boxplot(x = 'Party', y = ethnic_data.columns[i], data = ethnic_data, orient = 'v', ax = axes[i])\n",
    "plt.tight_layout()"
   ]
  },
  {
   "cell_type": "code",
   "execution_count": null,
   "metadata": {},
   "outputs": [],
   "source": []
  }
 ],
 "metadata": {
  "kernelspec": {
   "display_name": "Python 3",
   "language": "python",
   "name": "python3"
  },
  "language_info": {
   "codemirror_mode": {
    "name": "ipython",
    "version": 3
   },
   "file_extension": ".py",
   "mimetype": "text/x-python",
   "name": "python",
   "nbconvert_exporter": "python",
   "pygments_lexer": "ipython3",
   "version": "3.6.4"
  }
 },
 "nbformat": 4,
 "nbformat_minor": 4
}
